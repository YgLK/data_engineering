{
 "cells": [
  {
   "cell_type": "code",
   "execution_count": null,
   "id": "6d3f188f",
   "metadata": {},
   "outputs": [
    {
     "name": "stderr",
     "output_type": "stream",
     "text": [
      "C:\\Users\\Daniel\\.conda\\envs\\ox\\lib\\site-packages\\osmnx\\geocoder.py:110: FutureWarning: The frame.append method is deprecated and will be removed from pandas in a future version. Use pandas.concat instead.\n",
      "  gdf = gdf.append(_geocode_query_to_gdf(q, wr, by_osmid))\n"
     ]
    }
   ],
   "source": [
    "import osmnx as ox\n",
    "G = ox.graph_from_place('San Francisco, California', network_type='drive')\n",
    "ox.plot_graph(G)"
   ]
  },
  {
   "cell_type": "code",
   "execution_count": null,
   "id": "fd35b7ed",
   "metadata": {},
   "outputs": [],
   "source": [
    "import pandas as pd\n",
    "import geopandas as gpd\n",
    "import numpy as np\n",
    "ox.save_graph_xml(G, filepath='./data/graph.osm')\n",
    "gdf = ox.geometries.geometries_from_xml('./data/graph.osm')\n",
    "gdf.crs = 'epsg:4326'\n",
    "gdf"
   ]
  },
  {
   "cell_type": "code",
   "execution_count": null,
   "id": "d9a68cad",
   "metadata": {},
   "outputs": [],
   "source": [
    "gdf = gdf.reset_index()\n",
    "gdf"
   ]
  },
  {
   "cell_type": "code",
   "execution_count": null,
   "id": "1c8b8078",
   "metadata": {},
   "outputs": [],
   "source": [
    "# The dataset is divided to nodes and ways subsets"
   ]
  },
  {
   "cell_type": "code",
   "execution_count": null,
   "id": "2c4c4718",
   "metadata": {},
   "outputs": [],
   "source": [
    "nodes = gdf.loc[gdf['element_type'] =='node']\n",
    "nodes"
   ]
  },
  {
   "cell_type": "code",
   "execution_count": null,
   "id": "6d371a1b",
   "metadata": {},
   "outputs": [],
   "source": [
    "ways = gdf.loc[gdf['element_type'] =='way']\n",
    "ways"
   ]
  },
  {
   "cell_type": "code",
   "execution_count": null,
   "id": "960c9f59",
   "metadata": {},
   "outputs": [],
   "source": [
    "ways.drop(columns=['osmid'], inplace = True)"
   ]
  },
  {
   "cell_type": "code",
   "execution_count": null,
   "id": "b5fe79e1",
   "metadata": {},
   "outputs": [],
   "source": [
    "ways"
   ]
  },
  {
   "cell_type": "code",
   "execution_count": null,
   "id": "156eda9e",
   "metadata": {},
   "outputs": [],
   "source": [
    "ways.drop(columns=['index'], inplace = True)\n",
    "ways"
   ]
  },
  {
   "attachments": {
    "image.png": {
     "image/png": "[encoded data removed]"
    }
   },
   "cell_type": "markdown",
   "id": "04b4a6d4",
   "metadata": {},
   "source": [
    "![image.png](attachment:image.png)"
   ]
  },
  {
   "cell_type": "code",
   "execution_count": null,
   "id": "61983d5c",
   "metadata": {},
   "outputs": [],
   "source": [
    "# set default speed limit"
   ]
  },
  {
   "cell_type": "code",
   "execution_count": null,
   "id": "196a860f",
   "metadata": {},
   "outputs": [],
   "source": [
    "ways['maxspeed'].replace({'nan':'25 mph'}, inplace=True)\n",
    "ways"
   ]
  },
  {
   "cell_type": "code",
   "execution_count": null,
   "id": "20b22d55",
   "metadata": {},
   "outputs": [],
   "source": [
    "# speed limit to int"
   ]
  },
  {
   "cell_type": "code",
   "execution_count": null,
   "id": "0c2016ae",
   "metadata": {},
   "outputs": [],
   "source": [
    "ways['maxspeed'] = ways.maxspeed.str.extract('(\\d+)')\n",
    "ways['maxspeed'] = ways['maxspeed'].astype(int)"
   ]
  },
  {
   "cell_type": "code",
   "execution_count": null,
   "id": "fffda3a2",
   "metadata": {},
   "outputs": [],
   "source": [
    "ways"
   ]
  },
  {
   "cell_type": "code",
   "execution_count": null,
   "id": "e3b7efa4",
   "metadata": {},
   "outputs": [],
   "source": [
    "#one hot"
   ]
  },
  {
   "cell_type": "code",
   "execution_count": null,
   "id": "bec3b307",
   "metadata": {},
   "outputs": [],
   "source": [
    "dummies = pd.get_dummies(ways['oneway'],prefix=\"oneway\")"
   ]
  },
  {
   "cell_type": "code",
   "execution_count": null,
   "id": "a151aa24",
   "metadata": {},
   "outputs": [],
   "source": [
    "ways.drop(columns=['oneway'], inplace = True)"
   ]
  },
  {
   "cell_type": "code",
   "execution_count": null,
   "id": "f1a2e1c4",
   "metadata": {},
   "outputs": [],
   "source": [
    "ways = ways.join(dummies)"
   ]
  },
  {
   "cell_type": "code",
   "execution_count": null,
   "id": "2b48a4b4",
   "metadata": {},
   "outputs": [],
   "source": [
    "ways"
   ]
  },
  {
   "cell_type": "code",
   "execution_count": null,
   "id": "f3c33f66",
   "metadata": {},
   "outputs": [],
   "source": [
    "# SanFranciscoSpeedLimitCompliance"
   ]
  },
  {
   "cell_type": "code",
   "execution_count": null,
   "id": "e734abf1",
   "metadata": {},
   "outputs": [],
   "source": [
    "df = pd.read_csv('./data/SanFranciscoSpeedLimitCompliance.csv')\n",
    "from shapely import wkt\n",
    "df['the_geom'] = df['the_geom'].apply(wkt.loads)\n",
    "gdfSpeed = gpd.GeoDataFrame(df, crs='epsg:4326')"
   ]
  },
  {
   "cell_type": "code",
   "execution_count": null,
   "id": "e846a2ad",
   "metadata": {},
   "outputs": [],
   "source": [
    "gdfSpeed"
   ]
  },
  {
   "cell_type": "code",
   "execution_count": null,
   "id": "a1cc24eb",
   "metadata": {},
   "outputs": [],
   "source": [
    "# drop CNN column"
   ]
  },
  {
   "cell_type": "code",
   "execution_count": null,
   "id": "a29559d5",
   "metadata": {},
   "outputs": [],
   "source": [
    "gdfSpeed.drop(columns=['CNN'], inplace = True)\n",
    "gdfSpeed"
   ]
  },
  {
   "cell_type": "code",
   "execution_count": null,
   "id": "46e1f98a",
   "metadata": {},
   "outputs": [],
   "source": [
    "gdfSpeed['SpeedLimit'].replace({0:25}, inplace=True)"
   ]
  },
  {
   "cell_type": "code",
   "execution_count": null,
   "id": "3c98bb9c",
   "metadata": {},
   "outputs": [],
   "source": [
    "gdfSpeed = gdfSpeed.rename(columns ={'the_geom':'geometry'})"
   ]
  },
  {
   "cell_type": "code",
   "execution_count": null,
   "id": "5b1ed0c4",
   "metadata": {},
   "outputs": [],
   "source": [
    "gdfSpeed"
   ]
  },
  {
   "cell_type": "code",
   "execution_count": null,
   "id": "270e5a60",
   "metadata": {},
   "outputs": [],
   "source": [
    "#join two sets"
   ]
  },
  {
   "cell_type": "code",
   "execution_count": null,
   "id": "e0848428",
   "metadata": {},
   "outputs": [],
   "source": [
    "result = gdfSpeed.sjoin(ways, how=\"inner\", predicate='intersects')"
   ]
  },
  {
   "cell_type": "code",
   "execution_count": null,
   "id": "466724a5",
   "metadata": {},
   "outputs": [],
   "source": [
    "result"
   ]
  },
  {
   "cell_type": "code",
   "execution_count": null,
   "id": "00469c65",
   "metadata": {},
   "outputs": [],
   "source": [
    "result.drop(columns=['index_right'], inplace = True)"
   ]
  },
  {
   "cell_type": "code",
   "execution_count": null,
   "id": "1d573b00",
   "metadata": {},
   "outputs": [],
   "source": [
    "result"
   ]
  },
  {
   "cell_type": "code",
   "execution_count": null,
   "id": "a69c3645",
   "metadata": {},
   "outputs": [],
   "source": [
    "result.plot()"
   ]
  }
 ],
 "metadata": {
  "kernelspec": {
   "display_name": "Python 3 (ipykernel)",
   "language": "python",
   "name": "python3"
  },
  "language_info": {
   "codemirror_mode": {
    "name": "ipython",
    "version": 3
   },
   "file_extension": ".py",
   "mimetype": "text/x-python",
   "name": "python",
   "nbconvert_exporter": "python",
   "pygments_lexer": "ipython3",
   "version": "3.10.4"
  }
 },
 "nbformat": 4,
 "nbformat_minor": 5
}
